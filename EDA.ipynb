{
 "cells": [
  {
   "cell_type": "code",
   "execution_count": 26,
   "metadata": {},
   "outputs": [
    {
     "name": "stdout",
     "output_type": "stream",
     "text": [
      "Defaulting to user installation because normal site-packages is not writeable\n",
      "Requirement already satisfied: pandas in /Users/chriscoleman/Library/Python/3.9/lib/python/site-packages (2.2.3)\n",
      "Requirement already satisfied: streamlit in /Users/chriscoleman/Library/Python/3.9/lib/python/site-packages (1.41.1)\n",
      "Requirement already satisfied: plotly in /Users/chriscoleman/Library/Python/3.9/lib/python/site-packages (5.24.1)\n",
      "Requirement already satisfied: pytz>=2020.1 in /Users/chriscoleman/Library/Python/3.9/lib/python/site-packages (from pandas) (2024.2)\n",
      "Requirement already satisfied: python-dateutil>=2.8.2 in /Users/chriscoleman/Library/Python/3.9/lib/python/site-packages (from pandas) (2.9.0.post0)\n",
      "Requirement already satisfied: tzdata>=2022.7 in /Users/chriscoleman/Library/Python/3.9/lib/python/site-packages (from pandas) (2025.1)\n",
      "Requirement already satisfied: numpy>=1.22.4 in /Users/chriscoleman/Library/Python/3.9/lib/python/site-packages (from pandas) (2.0.2)\n",
      "Requirement already satisfied: tornado<7,>=6.0.3 in /Users/chriscoleman/Library/Python/3.9/lib/python/site-packages (from streamlit) (6.4.2)\n",
      "Requirement already satisfied: click<9,>=7.0 in /Users/chriscoleman/Library/Python/3.9/lib/python/site-packages (from streamlit) (8.1.8)\n",
      "Requirement already satisfied: requests<3,>=2.27 in /Users/chriscoleman/Library/Python/3.9/lib/python/site-packages (from streamlit) (2.32.3)\n",
      "Requirement already satisfied: pyarrow>=7.0 in /Users/chriscoleman/Library/Python/3.9/lib/python/site-packages (from streamlit) (19.0.0)\n",
      "Requirement already satisfied: blinker<2,>=1.0.0 in /Users/chriscoleman/Library/Python/3.9/lib/python/site-packages (from streamlit) (1.9.0)\n",
      "Requirement already satisfied: altair<6,>=4.0 in /Users/chriscoleman/Library/Python/3.9/lib/python/site-packages (from streamlit) (5.5.0)\n",
      "Requirement already satisfied: tenacity<10,>=8.1.0 in /Users/chriscoleman/Library/Python/3.9/lib/python/site-packages (from streamlit) (9.0.0)\n",
      "Requirement already satisfied: protobuf<6,>=3.20 in /Users/chriscoleman/Library/Python/3.9/lib/python/site-packages (from streamlit) (5.29.3)\n",
      "Requirement already satisfied: typing-extensions<5,>=4.3.0 in /Users/chriscoleman/Library/Python/3.9/lib/python/site-packages (from streamlit) (4.12.2)\n",
      "Requirement already satisfied: pillow<12,>=7.1.0 in /Users/chriscoleman/Library/Python/3.9/lib/python/site-packages (from streamlit) (11.1.0)\n",
      "Requirement already satisfied: packaging<25,>=20 in /Users/chriscoleman/Library/Python/3.9/lib/python/site-packages (from streamlit) (24.2)\n",
      "Requirement already satisfied: pydeck<1,>=0.8.0b4 in /Users/chriscoleman/Library/Python/3.9/lib/python/site-packages (from streamlit) (0.9.1)\n",
      "Requirement already satisfied: gitpython!=3.1.19,<4,>=3.0.7 in /Users/chriscoleman/Library/Python/3.9/lib/python/site-packages (from streamlit) (3.1.44)\n",
      "Requirement already satisfied: cachetools<6,>=4.0 in /Users/chriscoleman/Library/Python/3.9/lib/python/site-packages (from streamlit) (5.5.1)\n",
      "Requirement already satisfied: rich<14,>=10.14.0 in /Users/chriscoleman/Library/Python/3.9/lib/python/site-packages (from streamlit) (13.9.4)\n",
      "Requirement already satisfied: toml<2,>=0.10.1 in /Users/chriscoleman/Library/Python/3.9/lib/python/site-packages (from streamlit) (0.10.2)\n",
      "Requirement already satisfied: jinja2 in /Users/chriscoleman/Library/Python/3.9/lib/python/site-packages (from altair<6,>=4.0->streamlit) (3.1.5)\n",
      "Requirement already satisfied: narwhals>=1.14.2 in /Users/chriscoleman/Library/Python/3.9/lib/python/site-packages (from altair<6,>=4.0->streamlit) (1.24.0)\n",
      "Requirement already satisfied: jsonschema>=3.0 in /Users/chriscoleman/Library/Python/3.9/lib/python/site-packages (from altair<6,>=4.0->streamlit) (4.23.0)\n",
      "Requirement already satisfied: gitdb<5,>=4.0.1 in /Users/chriscoleman/Library/Python/3.9/lib/python/site-packages (from gitpython!=3.1.19,<4,>=3.0.7->streamlit) (4.0.12)\n",
      "Requirement already satisfied: smmap<6,>=3.0.1 in /Users/chriscoleman/Library/Python/3.9/lib/python/site-packages (from gitdb<5,>=4.0.1->gitpython!=3.1.19,<4,>=3.0.7->streamlit) (5.0.2)\n",
      "Requirement already satisfied: attrs>=22.2.0 in /Users/chriscoleman/Library/Python/3.9/lib/python/site-packages (from jsonschema>=3.0->altair<6,>=4.0->streamlit) (25.1.0)\n",
      "Requirement already satisfied: rpds-py>=0.7.1 in /Users/chriscoleman/Library/Python/3.9/lib/python/site-packages (from jsonschema>=3.0->altair<6,>=4.0->streamlit) (0.22.3)\n",
      "Requirement already satisfied: referencing>=0.28.4 in /Users/chriscoleman/Library/Python/3.9/lib/python/site-packages (from jsonschema>=3.0->altair<6,>=4.0->streamlit) (0.36.2)\n",
      "Requirement already satisfied: jsonschema-specifications>=2023.03.6 in /Users/chriscoleman/Library/Python/3.9/lib/python/site-packages (from jsonschema>=3.0->altair<6,>=4.0->streamlit) (2024.10.1)\n",
      "Requirement already satisfied: MarkupSafe>=2.0 in /Users/chriscoleman/Library/Python/3.9/lib/python/site-packages (from jinja2->altair<6,>=4.0->streamlit) (3.0.2)\n",
      "Requirement already satisfied: six>=1.5 in /Library/Developer/CommandLineTools/Library/Frameworks/Python3.framework/Versions/3.9/lib/python3.9/site-packages (from python-dateutil>=2.8.2->pandas) (1.15.0)\n",
      "Requirement already satisfied: idna<4,>=2.5 in /Users/chriscoleman/Library/Python/3.9/lib/python/site-packages (from requests<3,>=2.27->streamlit) (3.10)\n",
      "Requirement already satisfied: certifi>=2017.4.17 in /Users/chriscoleman/Library/Python/3.9/lib/python/site-packages (from requests<3,>=2.27->streamlit) (2024.12.14)\n",
      "Requirement already satisfied: urllib3<3,>=1.21.1 in /Users/chriscoleman/Library/Python/3.9/lib/python/site-packages (from requests<3,>=2.27->streamlit) (2.3.0)\n",
      "Requirement already satisfied: charset-normalizer<4,>=2 in /Users/chriscoleman/Library/Python/3.9/lib/python/site-packages (from requests<3,>=2.27->streamlit) (3.4.1)\n",
      "Requirement already satisfied: markdown-it-py>=2.2.0 in /Users/chriscoleman/Library/Python/3.9/lib/python/site-packages (from rich<14,>=10.14.0->streamlit) (3.0.0)\n",
      "Requirement already satisfied: pygments<3.0.0,>=2.13.0 in /Users/chriscoleman/Library/Python/3.9/lib/python/site-packages (from rich<14,>=10.14.0->streamlit) (2.19.1)\n",
      "Requirement already satisfied: mdurl~=0.1 in /Users/chriscoleman/Library/Python/3.9/lib/python/site-packages (from markdown-it-py>=2.2.0->rich<14,>=10.14.0->streamlit) (0.1.2)\n",
      "\u001b[33mWARNING: You are using pip version 21.2.4; however, version 24.3.1 is available.\n",
      "You should consider upgrading via the '/Library/Developer/CommandLineTools/usr/bin/python3 -m pip install --upgrade pip' command.\u001b[0m\n",
      "Note: you may need to restart the kernel to use updated packages.\n"
     ]
    }
   ],
   "source": [
    "%pip install pandas streamlit plotly\n",
    "\n",
    "import pandas as pd\n",
    "import streamlit as st\n",
    "import plotly.express as px\n"
   ]
  },
  {
   "cell_type": "markdown",
   "metadata": {},
   "source": [
    "This notebook explores and preprocesses the `vehicles_us.csv` dataset, focusing on identifying patterns and trends in vehicle advertisements. The goal is to clean and prepare the data for building a web application."
   ]
  },
  {
   "cell_type": "code",
   "execution_count": 27,
   "metadata": {},
   "outputs": [],
   "source": [
    "df = pd.read_csv(\"vehicles_us.csv\")"
   ]
  },
  {
   "cell_type": "code",
   "execution_count": 28,
   "metadata": {},
   "outputs": [
    {
     "name": "stderr",
     "output_type": "stream",
     "text": [
      "2025-01-28 16:52:11.322 WARNING streamlit.runtime.scriptrunner_utils.script_run_context: Thread 'MainThread': missing ScriptRunContext! This warning can be ignored when running in bare mode.\n",
      "2025-01-28 16:52:11.538 \n",
      "  \u001b[33m\u001b[1mWarning:\u001b[0m to view this Streamlit app on a browser, run it with the following\n",
      "  command:\n",
      "\n",
      "    streamlit run /Users/chriscoleman/Library/Python/3.9/lib/python/site-packages/ipykernel_launcher.py [ARGUMENTS]\n",
      "2025-01-28 16:52:11.539 Thread 'MainThread': missing ScriptRunContext! This warning can be ignored when running in bare mode.\n",
      "2025-01-28 16:52:11.541 Thread 'MainThread': missing ScriptRunContext! This warning can be ignored when running in bare mode.\n",
      "2025-01-28 16:52:11.545 Thread 'MainThread': missing ScriptRunContext! This warning can be ignored when running in bare mode.\n"
     ]
    },
    {
     "data": {
      "text/plain": [
       "DeltaGenerator()"
      ]
     },
     "execution_count": 28,
     "metadata": {},
     "output_type": "execute_result"
    }
   ],
   "source": [
    "# Title for the Streamlit app\n",
    "st.title(\"Exploratory Data Analysis of Used Vehicles\")\n",
    "st.header(\"Interactive Visualizations with Streamlit\")"
   ]
  },
  {
   "cell_type": "code",
   "execution_count": 29,
   "metadata": {},
   "outputs": [
    {
     "name": "stderr",
     "output_type": "stream",
     "text": [
      "2025-01-28 16:52:42.176 Thread 'MainThread': missing ScriptRunContext! This warning can be ignored when running in bare mode.\n",
      "2025-01-28 16:52:42.178 Thread 'MainThread': missing ScriptRunContext! This warning can be ignored when running in bare mode.\n",
      "2025-01-28 16:52:42.303 Thread 'MainThread': missing ScriptRunContext! This warning can be ignored when running in bare mode.\n",
      "2025-01-28 16:52:42.305 Thread 'MainThread': missing ScriptRunContext! This warning can be ignored when running in bare mode.\n",
      "2025-01-28 16:52:42.307 Thread 'MainThread': missing ScriptRunContext! This warning can be ignored when running in bare mode.\n",
      "2025-01-28 16:52:42.309 Thread 'MainThread': missing ScriptRunContext! This warning can be ignored when running in bare mode.\n",
      "2025-01-28 16:52:42.310 Thread 'MainThread': missing ScriptRunContext! This warning can be ignored when running in bare mode.\n",
      "2025-01-28 16:52:42.311 Thread 'MainThread': missing ScriptRunContext! This warning can be ignored when running in bare mode.\n"
     ]
    }
   ],
   "source": [
    "st.subheader(\"Dataset Overview\")\n",
    "st.write(df.head())  # Show the first 5 rows of the dataset\n",
    "st.write(\"Shape of the dataset:\", df.shape)"
   ]
  },
  {
   "cell_type": "code",
   "execution_count": 21,
   "metadata": {},
   "outputs": [
    {
     "name": "stdout",
     "output_type": "stream",
     "text": [
      "No duplicates found.\n"
     ]
    }
   ],
   "source": [
    "# Step 1: Check for missing values\n",
    "st.subheader(\"Missing Values Before Filling\")\n",
    "st.write(df.isnull().sum())"
   ]
  },
  {
   "cell_type": "code",
   "execution_count": 30,
   "metadata": {},
   "outputs": [
    {
     "name": "stderr",
     "output_type": "stream",
     "text": [
      "2025-01-28 16:55:45.285 Thread 'MainThread': missing ScriptRunContext! This warning can be ignored when running in bare mode.\n",
      "2025-01-28 16:55:45.286 Thread 'MainThread': missing ScriptRunContext! This warning can be ignored when running in bare mode.\n",
      "2025-01-28 16:55:45.347 Thread 'MainThread': missing ScriptRunContext! This warning can be ignored when running in bare mode.\n",
      "2025-01-28 16:55:45.348 Thread 'MainThread': missing ScriptRunContext! This warning can be ignored when running in bare mode.\n"
     ]
    }
   ],
   "source": [
    "# Step 2: Handle missing values\n",
    "# Fill 'model_year' with the median grouped by 'model'\n",
    "df['model_year'] = df['model_year'].fillna(df.groupby('model')['model_year'].transform('median'))\n",
    "\n",
    "# Fill 'odometer' with the median grouped by 'model' and 'model_year'\n",
    "df['odometer'] = df['odometer'].fillna(df.groupby(['model', 'model_year'])['odometer'].transform('median'))\n",
    "\n",
    "# Fill 'is_4wd' with 0 (assuming missing means not 4WD)\n",
    "df['is_4wd'] = df['is_4wd'].fillna(0)\n",
    "\n",
    "# Fill 'paint_color' with 'Unknown'\n",
    "df['paint_color'] = df['paint_color'].fillna('Unknown')\n",
    "\n",
    "# Fill 'cylinders' with the mode grouped by 'fuel'\n",
    "df['cylinders'] = df['cylinders'].fillna(df.groupby('fuel')['cylinders'].transform(lambda x: x.mode()[0] if not x.mode().empty else None))\n",
    "\n",
    "# Step 3: Verify missing values handled\n",
    "st.subheader(\"Missing Values After Filling\")\n",
    "st.write(df.isnull().sum())"
   ]
  },
  {
   "cell_type": "code",
   "execution_count": 31,
   "metadata": {},
   "outputs": [
    {
     "name": "stderr",
     "output_type": "stream",
     "text": [
      "2025-01-28 16:56:03.383 Thread 'MainThread': missing ScriptRunContext! This warning can be ignored when running in bare mode.\n",
      "2025-01-28 16:56:03.386 Thread 'MainThread': missing ScriptRunContext! This warning can be ignored when running in bare mode.\n",
      "2025-01-28 16:56:03.966 Thread 'MainThread': missing ScriptRunContext! This warning can be ignored when running in bare mode.\n",
      "2025-01-28 16:56:03.968 Thread 'MainThread': missing ScriptRunContext! This warning can be ignored when running in bare mode.\n",
      "2025-01-28 16:56:03.975 Thread 'MainThread': missing ScriptRunContext! This warning can be ignored when running in bare mode.\n",
      "2025-01-28 16:56:03.977 Thread 'MainThread': missing ScriptRunContext! This warning can be ignored when running in bare mode.\n"
     ]
    },
    {
     "data": {
      "text/plain": [
       "DeltaGenerator()"
      ]
     },
     "execution_count": 31,
     "metadata": {},
     "output_type": "execute_result"
    }
   ],
   "source": [
    "\n",
    "# Step 4: Histogram\n",
    "st.subheader(\"Histogram: Distribution of Vehicle Prices\")\n",
    "fig1 = px.histogram(df, x=\"price\", nbins=50, title=\"Distribution of Vehicle Prices\")\n",
    "st.plotly_chart(fig1)\n",
    "\n",
    "\n"
   ]
  },
  {
   "cell_type": "code",
   "execution_count": 32,
   "metadata": {},
   "outputs": [
    {
     "name": "stderr",
     "output_type": "stream",
     "text": [
      "2025-01-28 16:56:26.651 Thread 'MainThread': missing ScriptRunContext! This warning can be ignored when running in bare mode.\n",
      "2025-01-28 16:56:26.653 Thread 'MainThread': missing ScriptRunContext! This warning can be ignored when running in bare mode.\n",
      "2025-01-28 16:56:27.917 Thread 'MainThread': missing ScriptRunContext! This warning can be ignored when running in bare mode.\n",
      "2025-01-28 16:56:27.918 Thread 'MainThread': missing ScriptRunContext! This warning can be ignored when running in bare mode.\n",
      "2025-01-28 16:56:27.928 Thread 'MainThread': missing ScriptRunContext! This warning can be ignored when running in bare mode.\n",
      "2025-01-28 16:56:27.935 Thread 'MainThread': missing ScriptRunContext! This warning can be ignored when running in bare mode.\n"
     ]
    },
    {
     "data": {
      "text/plain": [
       "DeltaGenerator()"
      ]
     },
     "execution_count": 32,
     "metadata": {},
     "output_type": "execute_result"
    }
   ],
   "source": [
    "st.subheader(\"Scatter Plot: Odometer vs. Price\")\n",
    "fig2 = px.scatter(df, x=\"odometer\", y=\"price\", title=\"Odometer vs. Price\", color=\"condition\", hover_data=[\"model\", \"model_year\"])\n",
    "st.plotly_chart(fig2)"
   ]
  },
  {
   "cell_type": "code",
   "execution_count": 35,
   "metadata": {},
   "outputs": [
    {
     "name": "stderr",
     "output_type": "stream",
     "text": [
      "2025-01-28 17:07:01.619 Thread 'MainThread': missing ScriptRunContext! This warning can be ignored when running in bare mode.\n"
     ]
    },
    {
     "name": "stderr",
     "output_type": "stream",
     "text": [
      "2025-01-28 17:07:01.624 Thread 'MainThread': missing ScriptRunContext! This warning can be ignored when running in bare mode.\n",
      "2025-01-28 17:07:01.647 Thread 'MainThread': missing ScriptRunContext! This warning can be ignored when running in bare mode.\n",
      "2025-01-28 17:07:01.655 Thread 'MainThread': missing ScriptRunContext! This warning can be ignored when running in bare mode.\n",
      "2025-01-28 17:07:01.676 Thread 'MainThread': missing ScriptRunContext! This warning can be ignored when running in bare mode.\n"
     ]
    }
   ],
   "source": [
    "\n",
    "if st.checkbox(\"Show Dataset Summary\"):\n",
    "    st.subheader(\"Dataset Summary\")\n",
    "    st.write(df.describe())\n",
    "\n",
    "\n"
   ]
  },
  {
   "cell_type": "code",
   "execution_count": 34,
   "metadata": {},
   "outputs": [
    {
     "name": "stderr",
     "output_type": "stream",
     "text": [
      "2025-01-28 16:57:42.352 Thread 'MainThread': missing ScriptRunContext! This warning can be ignored when running in bare mode.\n",
      "2025-01-28 16:57:42.355 Thread 'MainThread': missing ScriptRunContext! This warning can be ignored when running in bare mode.\n",
      "2025-01-28 16:57:42.358 Thread 'MainThread': missing ScriptRunContext! This warning can be ignored when running in bare mode.\n",
      "2025-01-28 16:57:42.362 Thread 'MainThread': missing ScriptRunContext! This warning can be ignored when running in bare mode.\n",
      "2025-01-28 16:57:42.364 Thread 'MainThread': missing ScriptRunContext! This warning can be ignored when running in bare mode.\n",
      "2025-01-28 16:57:42.365 Thread 'MainThread': missing ScriptRunContext! This warning can be ignored when running in bare mode.\n"
     ]
    }
   ],
   "source": [
    "st.subheader(\"Conclusion\")\n",
    "st.write(\"\"\"\n",
    "- Most vehicles are priced under $25,000, with a few outliers.\n",
    "- Odometer readings tend to negatively correlate with price (higher mileage, lower price).\n",
    "- Condition impacts price significantly, as vehicles in 'new' or 'like new' condition are valued higher.\n",
    "\"\"\")"
   ]
  },
  {
   "cell_type": "markdown",
   "metadata": {},
   "source": [
    "\n",
    "- Newer vehicles and those in better condition are priced higher.\n",
    "- Missing data has been restored meaningfully using domain-specific assumptions.\n",
    "- The dataset is now clean and ready for use in the Streamlit app."
   ]
  }
 ],
 "metadata": {
  "kernelspec": {
   "display_name": "Python 3",
   "language": "python",
   "name": "python3"
  },
  "language_info": {
   "codemirror_mode": {
    "name": "ipython",
    "version": 3
   },
   "file_extension": ".py",
   "mimetype": "text/x-python",
   "name": "python",
   "nbconvert_exporter": "python",
   "pygments_lexer": "ipython3",
   "version": "3.9.6"
  }
 },
 "nbformat": 4,
 "nbformat_minor": 4
}
